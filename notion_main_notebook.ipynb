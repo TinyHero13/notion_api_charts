{
 "cells": [
  {
   "cell_type": "code",
   "execution_count": 1,
   "metadata": {},
   "outputs": [],
   "source": [
    "import requests\n",
    "import pandas as pd\n",
    "import matplotlib.pyplot as plt"
   ]
  },
  {
   "cell_type": "code",
   "execution_count": 2,
   "metadata": {},
   "outputs": [],
   "source": [
    "token = 'secret_u1XebWgmw630Pu9Ckv3x7D3L9tIjZfaYNd11SdsyEDT'\n",
    "databaseID =\"398823e7b3a940d19497248d5d23d592\"\n",
    "headers = {\n",
    "    \"Authorization\": \"Bearer \" + token,\n",
    "    \"Content-Type\": \"application/json\",\n",
    "    \"Notion-Version\": \"2022-02-22\"\n",
    "}"
   ]
  },
  {
   "cell_type": "code",
   "execution_count": 3,
   "metadata": {},
   "outputs": [],
   "source": [
    "readUrl = f\"https://api.notion.com/v1/databases/{databaseID}/query\"\n",
    "res = requests.request(\"POST\", readUrl, headers=headers)\n",
    "data = res.json()"
   ]
  },
  {
   "cell_type": "code",
   "execution_count": 4,
   "metadata": {},
   "outputs": [
    {
     "data": {
      "text/html": [
       "<div>\n",
       "<style scoped>\n",
       "    .dataframe tbody tr th:only-of-type {\n",
       "        vertical-align: middle;\n",
       "    }\n",
       "\n",
       "    .dataframe tbody tr th {\n",
       "        vertical-align: top;\n",
       "    }\n",
       "\n",
       "    .dataframe thead th {\n",
       "        text-align: right;\n",
       "    }\n",
       "</style>\n",
       "<table border=\"1\" class=\"dataframe\">\n",
       "  <thead>\n",
       "    <tr style=\"text-align: right;\">\n",
       "      <th></th>\n",
       "      <th>object</th>\n",
       "      <th>id</th>\n",
       "      <th>created_time</th>\n",
       "      <th>last_edited_time</th>\n",
       "      <th>created_by</th>\n",
       "      <th>last_edited_by</th>\n",
       "      <th>cover</th>\n",
       "      <th>icon</th>\n",
       "      <th>parent</th>\n",
       "      <th>archived</th>\n",
       "      <th>in_trash</th>\n",
       "      <th>properties</th>\n",
       "      <th>url</th>\n",
       "      <th>public_url</th>\n",
       "    </tr>\n",
       "  </thead>\n",
       "  <tbody>\n",
       "    <tr>\n",
       "      <th>0</th>\n",
       "      <td>page</td>\n",
       "      <td>00ef9733-6dd9-4853-9eb6-9e8c9c7cac68</td>\n",
       "      <td>2024-04-24T14:45:00.000Z</td>\n",
       "      <td>2024-04-24T14:45:00.000Z</td>\n",
       "      <td>{'object': 'user', 'id': 'e8e56058-4a16-406a-a...</td>\n",
       "      <td>{'object': 'user', 'id': 'e8e56058-4a16-406a-a...</td>\n",
       "      <td>None</td>\n",
       "      <td>None</td>\n",
       "      <td>{'type': 'database_id', 'database_id': '398823...</td>\n",
       "      <td>False</td>\n",
       "      <td>False</td>\n",
       "      <td>{'Tipo': {'id': 'GvhR', 'type': 'select', 'sel...</td>\n",
       "      <td>https://www.notion.so/00ef97336dd948539eb69e8c...</td>\n",
       "      <td>None</td>\n",
       "    </tr>\n",
       "    <tr>\n",
       "      <th>1</th>\n",
       "      <td>page</td>\n",
       "      <td>212e403d-bdd3-43b4-8fed-7c612e31b469</td>\n",
       "      <td>2024-04-24T14:29:00.000Z</td>\n",
       "      <td>2024-04-24T15:12:00.000Z</td>\n",
       "      <td>{'object': 'user', 'id': 'e8e56058-4a16-406a-a...</td>\n",
       "      <td>{'object': 'user', 'id': 'e8e56058-4a16-406a-a...</td>\n",
       "      <td>None</td>\n",
       "      <td>None</td>\n",
       "      <td>{'type': 'database_id', 'database_id': '398823...</td>\n",
       "      <td>False</td>\n",
       "      <td>False</td>\n",
       "      <td>{'Tipo': {'id': 'GvhR', 'type': 'select', 'sel...</td>\n",
       "      <td>https://www.notion.so/Regress-o-Linear-teoria-...</td>\n",
       "      <td>None</td>\n",
       "    </tr>\n",
       "    <tr>\n",
       "      <th>2</th>\n",
       "      <td>page</td>\n",
       "      <td>7acf376d-a1b7-4c8d-bce7-eb23ff508a98</td>\n",
       "      <td>2024-04-24T14:28:00.000Z</td>\n",
       "      <td>2024-04-24T15:13:00.000Z</td>\n",
       "      <td>{'object': 'user', 'id': 'e8e56058-4a16-406a-a...</td>\n",
       "      <td>{'object': 'user', 'id': 'e8e56058-4a16-406a-a...</td>\n",
       "      <td>None</td>\n",
       "      <td>{'type': 'external', 'external': {'url': 'http...</td>\n",
       "      <td>{'type': 'database_id', 'database_id': '398823...</td>\n",
       "      <td>False</td>\n",
       "      <td>False</td>\n",
       "      <td>{'Tipo': {'id': 'GvhR', 'type': 'select', 'sel...</td>\n",
       "      <td>https://www.notion.so/80-How-YOU-Should-Learn-...</td>\n",
       "      <td>None</td>\n",
       "    </tr>\n",
       "    <tr>\n",
       "      <th>3</th>\n",
       "      <td>page</td>\n",
       "      <td>88f3338f-da46-4b05-95e7-06b976fa3c62</td>\n",
       "      <td>2024-04-02T18:50:00.000Z</td>\n",
       "      <td>2024-04-02T18:50:00.000Z</td>\n",
       "      <td>{'object': 'user', 'id': 'e8e56058-4a16-406a-a...</td>\n",
       "      <td>{'object': 'user', 'id': 'e8e56058-4a16-406a-a...</td>\n",
       "      <td>None</td>\n",
       "      <td>{'type': 'external', 'external': {'url': 'http...</td>\n",
       "      <td>{'type': 'database_id', 'database_id': '398823...</td>\n",
       "      <td>False</td>\n",
       "      <td>False</td>\n",
       "      <td>{'Tipo': {'id': 'GvhR', 'type': 'select', 'sel...</td>\n",
       "      <td>https://www.notion.so/5-ferramentas-de-IA-que-...</td>\n",
       "      <td>None</td>\n",
       "    </tr>\n",
       "    <tr>\n",
       "      <th>4</th>\n",
       "      <td>page</td>\n",
       "      <td>395a378c-ad8e-4c9e-af9f-1e1e34d1a4b3</td>\n",
       "      <td>2024-04-01T23:44:00.000Z</td>\n",
       "      <td>2024-04-01T23:44:00.000Z</td>\n",
       "      <td>{'object': 'user', 'id': 'e8e56058-4a16-406a-a...</td>\n",
       "      <td>{'object': 'user', 'id': 'e8e56058-4a16-406a-a...</td>\n",
       "      <td>None</td>\n",
       "      <td>{'type': 'external', 'external': {'url': 'http...</td>\n",
       "      <td>{'type': 'database_id', 'database_id': '398823...</td>\n",
       "      <td>False</td>\n",
       "      <td>False</td>\n",
       "      <td>{'Tipo': {'id': 'GvhR', 'type': 'select', 'sel...</td>\n",
       "      <td>https://www.notion.so/Sandeep-Pawar-Microsoft-...</td>\n",
       "      <td>None</td>\n",
       "    </tr>\n",
       "  </tbody>\n",
       "</table>\n",
       "</div>"
      ],
      "text/plain": [
       "  object                                    id              created_time  \\\n",
       "0   page  00ef9733-6dd9-4853-9eb6-9e8c9c7cac68  2024-04-24T14:45:00.000Z   \n",
       "1   page  212e403d-bdd3-43b4-8fed-7c612e31b469  2024-04-24T14:29:00.000Z   \n",
       "2   page  7acf376d-a1b7-4c8d-bce7-eb23ff508a98  2024-04-24T14:28:00.000Z   \n",
       "3   page  88f3338f-da46-4b05-95e7-06b976fa3c62  2024-04-02T18:50:00.000Z   \n",
       "4   page  395a378c-ad8e-4c9e-af9f-1e1e34d1a4b3  2024-04-01T23:44:00.000Z   \n",
       "\n",
       "           last_edited_time  \\\n",
       "0  2024-04-24T14:45:00.000Z   \n",
       "1  2024-04-24T15:12:00.000Z   \n",
       "2  2024-04-24T15:13:00.000Z   \n",
       "3  2024-04-02T18:50:00.000Z   \n",
       "4  2024-04-01T23:44:00.000Z   \n",
       "\n",
       "                                          created_by  \\\n",
       "0  {'object': 'user', 'id': 'e8e56058-4a16-406a-a...   \n",
       "1  {'object': 'user', 'id': 'e8e56058-4a16-406a-a...   \n",
       "2  {'object': 'user', 'id': 'e8e56058-4a16-406a-a...   \n",
       "3  {'object': 'user', 'id': 'e8e56058-4a16-406a-a...   \n",
       "4  {'object': 'user', 'id': 'e8e56058-4a16-406a-a...   \n",
       "\n",
       "                                      last_edited_by cover  \\\n",
       "0  {'object': 'user', 'id': 'e8e56058-4a16-406a-a...  None   \n",
       "1  {'object': 'user', 'id': 'e8e56058-4a16-406a-a...  None   \n",
       "2  {'object': 'user', 'id': 'e8e56058-4a16-406a-a...  None   \n",
       "3  {'object': 'user', 'id': 'e8e56058-4a16-406a-a...  None   \n",
       "4  {'object': 'user', 'id': 'e8e56058-4a16-406a-a...  None   \n",
       "\n",
       "                                                icon  \\\n",
       "0                                               None   \n",
       "1                                               None   \n",
       "2  {'type': 'external', 'external': {'url': 'http...   \n",
       "3  {'type': 'external', 'external': {'url': 'http...   \n",
       "4  {'type': 'external', 'external': {'url': 'http...   \n",
       "\n",
       "                                              parent  archived  in_trash  \\\n",
       "0  {'type': 'database_id', 'database_id': '398823...     False     False   \n",
       "1  {'type': 'database_id', 'database_id': '398823...     False     False   \n",
       "2  {'type': 'database_id', 'database_id': '398823...     False     False   \n",
       "3  {'type': 'database_id', 'database_id': '398823...     False     False   \n",
       "4  {'type': 'database_id', 'database_id': '398823...     False     False   \n",
       "\n",
       "                                          properties  \\\n",
       "0  {'Tipo': {'id': 'GvhR', 'type': 'select', 'sel...   \n",
       "1  {'Tipo': {'id': 'GvhR', 'type': 'select', 'sel...   \n",
       "2  {'Tipo': {'id': 'GvhR', 'type': 'select', 'sel...   \n",
       "3  {'Tipo': {'id': 'GvhR', 'type': 'select', 'sel...   \n",
       "4  {'Tipo': {'id': 'GvhR', 'type': 'select', 'sel...   \n",
       "\n",
       "                                                 url public_url  \n",
       "0  https://www.notion.so/00ef97336dd948539eb69e8c...       None  \n",
       "1  https://www.notion.so/Regress-o-Linear-teoria-...       None  \n",
       "2  https://www.notion.so/80-How-YOU-Should-Learn-...       None  \n",
       "3  https://www.notion.so/5-ferramentas-de-IA-que-...       None  \n",
       "4  https://www.notion.so/Sandeep-Pawar-Microsoft-...       None  "
      ]
     },
     "execution_count": 4,
     "metadata": {},
     "output_type": "execute_result"
    }
   ],
   "source": [
    "df_notion = pd.DataFrame(data['results'])\n",
    "df_notion.head()"
   ]
  },
  {
   "cell_type": "code",
   "execution_count": 5,
   "metadata": {},
   "outputs": [],
   "source": [
    "df_notion['tools'] = df_notion['properties'].apply(lambda x: x['Ferramenta']['select']['name'] if x['Ferramenta']['select'] is not None else None)\n",
    "df_notion['category'] = df_notion['properties'].apply(lambda x: x['Categoria']['select']['name'] if x['Categoria']['select'] is not None else None)\n",
    "df_notion['Type'] = df_notion['properties'].apply(lambda x: x['Tipo']['select']['name'] if x['Tipo']['select'] is not None else None)"
   ]
  },
  {
   "cell_type": "code",
   "execution_count": 6,
   "metadata": {},
   "outputs": [],
   "source": [
    "df_notion.drop(columns=['properties', 'public_url', 'icon', 'url', 'created_by', 'last_edited_by', 'cover', 'parent', 'archived', 'in_trash', 'object'], inplace=True)"
   ]
  },
  {
   "cell_type": "code",
   "execution_count": 7,
   "metadata": {},
   "outputs": [
    {
     "data": {
      "text/plain": [
       "<Axes: ylabel='category'>"
      ]
     },
     "execution_count": 7,
     "metadata": {},
     "output_type": "execute_result"
    },
    {
     "data": {
      "image/png": "[encoded data removed]",
      "text/plain": [
       "<Figure size 640x480 with 1 Axes>"
      ]
     },
     "metadata": {},
     "output_type": "display_data"
    }
   ],
   "source": [
    "df_notion['category'].value_counts(ascending=True).plot(kind='barh')"
   ]
  },
  {
   "cell_type": "code",
   "execution_count": 8,
   "metadata": {},
   "outputs": [
    {
     "data": {
      "text/plain": [
       "<Axes: ylabel='tools'>"
      ]
     },
     "execution_count": 8,
     "metadata": {},
     "output_type": "execute_result"
    },
    {
     "data": {
      "image/png": "[encoded data removed]",
      "text/plain": [
       "<Figure size 640x480 with 1 Axes>"
      ]
     },
     "metadata": {},
     "output_type": "display_data"
    }
   ],
   "source": [
    "df_notion['tools'].value_counts(ascending=True).plot(kind='barh')"
   ]
  },
  {
   "cell_type": "code",
   "execution_count": 22,
   "metadata": {},
   "outputs": [
    {
     "name": "stdout",
     "output_type": "stream",
     "text": [
      "Requirement already satisfied: nbformat in .\\.venv\\lib\\site-packages (5.10.4)\n",
      "Requirement already satisfied: fastjsonschema>=2.15 in .\\.venv\\lib\\site-packages (from nbformat) (2.19.1)\n",
      "Requirement already satisfied: jsonschema>=2.6 in .\\.venv\\lib\\site-packages (from nbformat) (4.21.1)\n",
      "Requirement already satisfied: jupyter-core!=5.0.*,>=4.12 in .\\.venv\\lib\\site-packages (from nbformat) (5.7.2)\n",
      "Requirement already satisfied: traitlets>=5.1 in .\\.venv\\lib\\site-packages (from nbformat) (5.14.3)\n",
      "Requirement already satisfied: attrs>=22.2.0 in .\\.venv\\lib\\site-packages (from jsonschema>=2.6->nbformat) (23.2.0)\n",
      "Requirement already satisfied: jsonschema-specifications>=2023.03.6 in .\\.venv\\lib\\site-packages (from jsonschema>=2.6->nbformat) (2023.12.1)\n",
      "Requirement already satisfied: referencing>=0.28.4 in .\\.venv\\lib\\site-packages (from jsonschema>=2.6->nbformat) (0.35.0)\n",
      "Requirement already satisfied: rpds-py>=0.7.1 in .\\.venv\\lib\\site-packages (from jsonschema>=2.6->nbformat) (0.18.0)\n",
      "Requirement already satisfied: platformdirs>=2.5 in .\\.venv\\lib\\site-packages (from jupyter-core!=5.0.*,>=4.12->nbformat) (4.2.1)\n",
      "Requirement already satisfied: pywin32>=300 in .\\.venv\\lib\\site-packages (from jupyter-core!=5.0.*,>=4.12->nbformat) (306)\n"
     ]
    }
   ],
   "source": [
    "!pip install --upgrade nbformat\n"
   ]
  },
  {
   "cell_type": "code",
   "execution_count": 23,
   "metadata": {},
   "outputs": [
    {
     "ename": "ValueError",
     "evalue": "Mime type rendering requires nbformat>=4.2.0 but it is not installed",
     "output_type": "error",
     "traceback": [
      "\u001b[1;31m---------------------------------------------------------------------------\u001b[0m",
      "\u001b[1;31mValueError\u001b[0m                                Traceback (most recent call last)",
      "Cell \u001b[1;32mIn[23], line 9\u001b[0m\n\u001b[0;32m      7\u001b[0m \u001b[38;5;66;03m# Create the bar chart\u001b[39;00m\n\u001b[0;32m      8\u001b[0m fig \u001b[38;5;241m=\u001b[39m px\u001b[38;5;241m.\u001b[39mbar(category_counts, x\u001b[38;5;241m=\u001b[39m\u001b[38;5;124m'\u001b[39m\u001b[38;5;124mcategory\u001b[39m\u001b[38;5;124m'\u001b[39m, y\u001b[38;5;241m=\u001b[39m\u001b[38;5;124m'\u001b[39m\u001b[38;5;124mcount\u001b[39m\u001b[38;5;124m'\u001b[39m, title\u001b[38;5;241m=\u001b[39m\u001b[38;5;124m'\u001b[39m\u001b[38;5;124mCategory Counts\u001b[39m\u001b[38;5;124m'\u001b[39m)\n\u001b[1;32m----> 9\u001b[0m \u001b[43mfig\u001b[49m\u001b[38;5;241;43m.\u001b[39;49m\u001b[43mshow\u001b[49m\u001b[43m(\u001b[49m\u001b[43m)\u001b[49m\n",
      "File \u001b[1;32me:\\codes\\dados\\notionapi\\.venv\\Lib\\site-packages\\plotly\\basedatatypes.py:3410\u001b[0m, in \u001b[0;36mBaseFigure.show\u001b[1;34m(self, *args, **kwargs)\u001b[0m\n\u001b[0;32m   3377\u001b[0m \u001b[38;5;250m\u001b[39m\u001b[38;5;124;03m\"\"\"\u001b[39;00m\n\u001b[0;32m   3378\u001b[0m \u001b[38;5;124;03mShow a figure using either the default renderer(s) or the renderer(s)\u001b[39;00m\n\u001b[0;32m   3379\u001b[0m \u001b[38;5;124;03mspecified by the renderer argument\u001b[39;00m\n\u001b[1;32m   (...)\u001b[0m\n\u001b[0;32m   3406\u001b[0m \u001b[38;5;124;03mNone\u001b[39;00m\n\u001b[0;32m   3407\u001b[0m \u001b[38;5;124;03m\"\"\"\u001b[39;00m\n\u001b[0;32m   3408\u001b[0m \u001b[38;5;28;01mimport\u001b[39;00m \u001b[38;5;21;01mplotly\u001b[39;00m\u001b[38;5;21;01m.\u001b[39;00m\u001b[38;5;21;01mio\u001b[39;00m \u001b[38;5;28;01mas\u001b[39;00m \u001b[38;5;21;01mpio\u001b[39;00m\n\u001b[1;32m-> 3410\u001b[0m \u001b[38;5;28;01mreturn\u001b[39;00m \u001b[43mpio\u001b[49m\u001b[38;5;241;43m.\u001b[39;49m\u001b[43mshow\u001b[49m\u001b[43m(\u001b[49m\u001b[38;5;28;43mself\u001b[39;49m\u001b[43m,\u001b[49m\u001b[43m \u001b[49m\u001b[38;5;241;43m*\u001b[39;49m\u001b[43margs\u001b[49m\u001b[43m,\u001b[49m\u001b[43m \u001b[49m\u001b[38;5;241;43m*\u001b[39;49m\u001b[38;5;241;43m*\u001b[39;49m\u001b[43mkwargs\u001b[49m\u001b[43m)\u001b[49m\n",
      "File \u001b[1;32me:\\codes\\dados\\notionapi\\.venv\\Lib\\site-packages\\plotly\\io\\_renderers.py:394\u001b[0m, in \u001b[0;36mshow\u001b[1;34m(fig, renderer, validate, **kwargs)\u001b[0m\n\u001b[0;32m    389\u001b[0m         \u001b[38;5;28;01mraise\u001b[39;00m \u001b[38;5;167;01mValueError\u001b[39;00m(\n\u001b[0;32m    390\u001b[0m             \u001b[38;5;124m\"\u001b[39m\u001b[38;5;124mMime type rendering requires ipython but it is not installed\u001b[39m\u001b[38;5;124m\"\u001b[39m\n\u001b[0;32m    391\u001b[0m         )\n\u001b[0;32m    393\u001b[0m     \u001b[38;5;28;01mif\u001b[39;00m \u001b[38;5;129;01mnot\u001b[39;00m nbformat \u001b[38;5;129;01mor\u001b[39;00m Version(nbformat\u001b[38;5;241m.\u001b[39m__version__) \u001b[38;5;241m<\u001b[39m Version(\u001b[38;5;124m\"\u001b[39m\u001b[38;5;124m4.2.0\u001b[39m\u001b[38;5;124m\"\u001b[39m):\n\u001b[1;32m--> 394\u001b[0m         \u001b[38;5;28;01mraise\u001b[39;00m \u001b[38;5;167;01mValueError\u001b[39;00m(\n\u001b[0;32m    395\u001b[0m             \u001b[38;5;124m\"\u001b[39m\u001b[38;5;124mMime type rendering requires nbformat>=4.2.0 but it is not installed\u001b[39m\u001b[38;5;124m\"\u001b[39m\n\u001b[0;32m    396\u001b[0m         )\n\u001b[0;32m    398\u001b[0m     ipython_display\u001b[38;5;241m.\u001b[39mdisplay(bundle, raw\u001b[38;5;241m=\u001b[39m\u001b[38;5;28;01mTrue\u001b[39;00m)\n\u001b[0;32m    400\u001b[0m \u001b[38;5;66;03m# external renderers\u001b[39;00m\n",
      "\u001b[1;31mValueError\u001b[0m: Mime type rendering requires nbformat>=4.2.0 but it is not installed"
     ]
    }
   ],
   "source": [
    "import plotly.express as px\n",
    "\n",
    "# Calculate the value counts for each category\n",
    "category_counts = df_notion['category'].value_counts().reset_index()\n",
    "category_counts.columns = ['category', 'count']\n",
    "\n",
    "# Create the bar chart\n",
    "fig = px.bar(category_counts, x='category', y='count', title='Category Counts')\n",
    "fig.show()\n"
   ]
  }
 ],
 "metadata": {
  "kernelspec": {
   "display_name": ".venv",
   "language": "python",
   "name": "python3"
  },
  "language_info": {
   "codemirror_mode": {
    "name": "ipython",
    "version": 3
   },
   "file_extension": ".py",
   "mimetype": "text/x-python",
   "name": "python",
   "nbconvert_exporter": "python",
   "pygments_lexer": "ipython3",
   "version": "3.12.1"
  }
 },
 "nbformat": 4,
 "nbformat_minor": 2
}
